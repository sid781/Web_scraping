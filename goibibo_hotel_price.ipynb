{
  "nbformat": 4,
  "nbformat_minor": 0,
  "metadata": {
    "colab": {
      "name": "Web_scraping.ipynb",
      "provenance": [],
      "authorship_tag": "ABX9TyOOeUg7WZngkBUNrrMwZd4I",
      "include_colab_link": true
    },
    "kernelspec": {
      "name": "python3",
      "display_name": "Python 3"
    },
    "language_info": {
      "name": "python"
    }
  },
  "cells": [
    {
      "cell_type": "markdown",
      "metadata": {
        "id": "view-in-github",
        "colab_type": "text"
      },
      "source": [
        "<a href=\"https://colab.research.google.com/github/sid781/Web_scraping/blob/main/goibibo_hotel_price.ipynb\" target=\"_parent\"><img src=\"https://colab.research.google.com/assets/colab-badge.svg\" alt=\"Open In Colab\"/></a>"
      ]
    },
    {
      "cell_type": "code",
      "metadata": {
        "id": "_tZpvgjAa4XU"
      },
      "source": [
        "import requests\n",
        "from bs4 import BeautifulSoup\n",
        "import pandas as pd"
      ],
      "execution_count": 1,
      "outputs": []
    },
    {
      "cell_type": "code",
      "metadata": {
        "id": "IUyoignqbP2Q"
      },
      "source": [
        "# https://www.goibibo.com/robots.txt\n",
        "# To check the acess\n",
        "\n",
        "# target url to scrap\n",
        "url = \"https://www.goibibo.com/hotels/hotels-in-shimla-ct/\""
      ],
      "execution_count": 2,
      "outputs": []
    },
    {
      "cell_type": "code",
      "metadata": {
        "id": "y_V6uSp8b0Rk"
      },
      "source": [
        "# http://httpbin.org/get  \n",
        "# to get the headers of user-agent\n",
        "headers = {\n",
        "    \"User-Agent\": \"Mozilla/5.0 (Windows NT 10.0; Win64; x64) AppleWebKit/537.36 (KHTML, like Gecko) Chrome/90.0.4430.85 Safari/537.36 Edg/90.0.818.49\" \n",
        "}"
      ],
      "execution_count": 3,
      "outputs": []
    },
    {
      "cell_type": "code",
      "metadata": {
        "id": "wIvo5lr_daPM"
      },
      "source": [
        "# send requests to download the data\n",
        "response = requests.request(\"GET\", url, headers=headers)"
      ],
      "execution_count": 4,
      "outputs": []
    },
    {
      "cell_type": "code",
      "metadata": {
        "id": "WLxLUFfCeEaY"
      },
      "source": [
        "# parse the downloaded data\n",
        "data = BeautifulSoup(response.text, 'html.parser')"
      ],
      "execution_count": 5,
      "outputs": []
    },
    {
      "cell_type": "code",
      "metadata": {
        "colab": {
          "base_uri": "https://localhost:8080/"
        },
        "id": "QoxUx_XDfvxl",
        "outputId": "7a989843-b742-452a-969c-3109d8eca8cc"
      },
      "source": [
        "# name_data = data.find_all('div',attrs={'class':'HotelCardstyles__HotelNameWrapperDiv-sc-1s80tyk-12 biniNQ'})\n",
        "# price_data = data.find_all('div',attrs={'class':'HotelCardstyles__CurrentPriceTextWrapper-sc-1s80tyk-27 eqtvkm'})\n",
        "help(data.find_all)"
      ],
      "execution_count": 181,
      "outputs": [
        {
          "output_type": "stream",
          "text": [
            "Help on method find_all in module bs4.element:\n",
            "\n",
            "find_all(name=None, attrs={}, recursive=True, text=None, limit=None, **kwargs) method of bs4.BeautifulSoup instance\n",
            "    Extracts a list of Tag objects that match the given\n",
            "    criteria.  You can specify the name of the Tag and any\n",
            "    attributes you want the Tag to have.\n",
            "    \n",
            "    The value of a key-value pair in the 'attrs' map can be a\n",
            "    string, a list of strings, a regular expression object, or a\n",
            "    callable that takes a string and returns whether or not the\n",
            "    string matches for some custom definition of 'matches'. The\n",
            "    same is true of the tag name.\n",
            "\n"
          ],
          "name": "stdout"
        }
      ]
    },
    {
      "cell_type": "code",
      "metadata": {
        "id": "hXDxCJlpgvsH"
      },
      "source": [
        "#print(len(name_data))\n",
        "#print(len(price_data))"
      ],
      "execution_count": 6,
      "outputs": []
    },
    {
      "cell_type": "code",
      "metadata": {
        "id": "n1mAUBG8tksT"
      },
      "source": [
        "hotel_info = data.find_all('div', attrs={'class':'HotelCardstyles__HotelInfoWrapperDiv-sc-1s80tyk-8 cnUUXW'})"
      ],
      "execution_count": 7,
      "outputs": []
    },
    {
      "cell_type": "code",
      "metadata": {
        "colab": {
          "base_uri": "https://localhost:8080/"
        },
        "id": "E99CGOV-yxKz",
        "outputId": "ad4c5bcd-8091-4afa-a45b-c58d290c88ea"
      },
      "source": [
        "print(len(hotel_info))"
      ],
      "execution_count": 8,
      "outputs": [
        {
          "output_type": "stream",
          "text": [
            "40\n"
          ],
          "name": "stdout"
        }
      ]
    },
    {
      "cell_type": "code",
      "metadata": {
        "id": "d_4Svg5fzvY3"
      },
      "source": [
        "hotel_price = data.find_all('div', attrs={'class':'HotelCardstyles__HotelPricingInfoWrapperDiv-sc-1s80tyk-18 yvBI'})"
      ],
      "execution_count": 9,
      "outputs": []
    },
    {
      "cell_type": "code",
      "metadata": {
        "colab": {
          "base_uri": "https://localhost:8080/"
        },
        "id": "xcRjEg3Czs0k",
        "outputId": "20cc7309-ae28-49a2-bcbe-162c62d33785"
      },
      "source": [
        "print(len(hotel_price))"
      ],
      "execution_count": 10,
      "outputs": [
        {
          "output_type": "stream",
          "text": [
            "40\n"
          ],
          "name": "stdout"
        }
      ]
    },
    {
      "cell_type": "code",
      "metadata": {
        "id": "_qVg-rZygztw"
      },
      "source": [
        "scraped_data = []\n",
        "for card in list(zip(hotel_info, hotel_price)):\n",
        "\n",
        "  card_data={}\n",
        "  card_data['Hotel Name'] = card[0].find('a').text\n",
        "  card_data['Discount'] = card[1].find('div', attrs={'class': 'OfferTagstyles__PercentageOffWrapperDiv-sc-16zl30v-10 bqOixo'})\n",
        "  card_data['Ratings'] = card[0].find('span', attrs={'class': 'ReviewAndRatingsstyles__AverageReviewText-sc-1nxmeoo-8 jzSqUD'})\n",
        "  card_data['Room Price'] = card[1].find('p', attrs={'class':'HotelCardstyles__CurrentPrice-sc-1s80tyk-28 inUyrJ'}).text\n",
        "  \n",
        "  scraped_data.append(card_data)"
      ],
      "execution_count": 11,
      "outputs": []
    },
    {
      "cell_type": "code",
      "metadata": {
        "colab": {
          "base_uri": "https://localhost:8080/",
          "height": 1000
        },
        "id": "Q-0ySM2Gm39r",
        "outputId": "b29946bc-efff-47e1-8fd8-cbcfa488cb6a"
      },
      "source": [
        "df = pd.DataFrame.from_dict(scraped_data)\n",
        "df"
      ],
      "execution_count": 12,
      "outputs": [
        {
          "output_type": "execute_result",
          "data": {
            "text/html": [
              "<div>\n",
              "<style scoped>\n",
              "    .dataframe tbody tr th:only-of-type {\n",
              "        vertical-align: middle;\n",
              "    }\n",
              "\n",
              "    .dataframe tbody tr th {\n",
              "        vertical-align: top;\n",
              "    }\n",
              "\n",
              "    .dataframe thead th {\n",
              "        text-align: right;\n",
              "    }\n",
              "</style>\n",
              "<table border=\"1\" class=\"dataframe\">\n",
              "  <thead>\n",
              "    <tr style=\"text-align: right;\">\n",
              "      <th></th>\n",
              "      <th>Hotel Name</th>\n",
              "      <th>Discount</th>\n",
              "      <th>Ratings</th>\n",
              "      <th>Room Price</th>\n",
              "    </tr>\n",
              "  </thead>\n",
              "  <tbody>\n",
              "    <tr>\n",
              "      <th>0</th>\n",
              "      <td>Rocky Knob (Explore World Art in One Property)</td>\n",
              "      <td>[12% Off]</td>\n",
              "      <td>[4.5 / 5]</td>\n",
              "      <td>2645</td>\n",
              "    </tr>\n",
              "    <tr>\n",
              "      <th>1</th>\n",
              "      <td>Snow Valley Resorts</td>\n",
              "      <td>[40% Off]</td>\n",
              "      <td>[4.4 / 5]</td>\n",
              "      <td>3420</td>\n",
              "    </tr>\n",
              "    <tr>\n",
              "      <th>2</th>\n",
              "      <td>Hotel Dhroov</td>\n",
              "      <td>[42% Off]</td>\n",
              "      <td>[4.5 / 5]</td>\n",
              "      <td>3521</td>\n",
              "    </tr>\n",
              "    <tr>\n",
              "      <th>3</th>\n",
              "      <td>OYO 1706 Hotel The Alpine Heritage Residency</td>\n",
              "      <td>[50% Off]</td>\n",
              "      <td>[3.9 / 5]</td>\n",
              "      <td>3812</td>\n",
              "    </tr>\n",
              "    <tr>\n",
              "      <th>4</th>\n",
              "      <td>Meena Bagh Shimla</td>\n",
              "      <td>[11% Off]</td>\n",
              "      <td>[4.4 / 5]</td>\n",
              "      <td>7231</td>\n",
              "    </tr>\n",
              "    <tr>\n",
              "      <th>5</th>\n",
              "      <td>Radisson Jass Shimla</td>\n",
              "      <td>[15% Off]</td>\n",
              "      <td>[4.4 / 5]</td>\n",
              "      <td>15300</td>\n",
              "    </tr>\n",
              "    <tr>\n",
              "      <th>6</th>\n",
              "      <td>Marina- Shimla First Designer Boutique Hotel</td>\n",
              "      <td>[12% Off]</td>\n",
              "      <td>[4.5 / 5]</td>\n",
              "      <td>9526</td>\n",
              "    </tr>\n",
              "    <tr>\n",
              "      <th>7</th>\n",
              "      <td>Snow Lotus</td>\n",
              "      <td>[12% Off]</td>\n",
              "      <td>[4.4 / 5]</td>\n",
              "      <td>3085</td>\n",
              "    </tr>\n",
              "    <tr>\n",
              "      <th>8</th>\n",
              "      <td>Bridge View Regency Mall road</td>\n",
              "      <td>[24% Off]</td>\n",
              "      <td>[3.9 / 5]</td>\n",
              "      <td>3428</td>\n",
              "    </tr>\n",
              "    <tr>\n",
              "      <th>9</th>\n",
              "      <td>Frosty Woods Home Stay</td>\n",
              "      <td>None</td>\n",
              "      <td>[4.8 / 5]</td>\n",
              "      <td>1800</td>\n",
              "    </tr>\n",
              "    <tr>\n",
              "      <th>10</th>\n",
              "      <td>Goldenfern Resort Shimla</td>\n",
              "      <td>[12% Off]</td>\n",
              "      <td>[4.6 / 5]</td>\n",
              "      <td>4407</td>\n",
              "    </tr>\n",
              "    <tr>\n",
              "      <th>11</th>\n",
              "      <td>Torrentium Lodge</td>\n",
              "      <td>[20% Off]</td>\n",
              "      <td>[4.2 / 5]</td>\n",
              "      <td>2398</td>\n",
              "    </tr>\n",
              "    <tr>\n",
              "      <th>12</th>\n",
              "      <td>Hotel Sidharath</td>\n",
              "      <td>[6% Off]</td>\n",
              "      <td>[3.9 / 5]</td>\n",
              "      <td>1888</td>\n",
              "    </tr>\n",
              "    <tr>\n",
              "      <th>13</th>\n",
              "      <td>Honeymoon Inn</td>\n",
              "      <td>None</td>\n",
              "      <td>[4.4 / 5]</td>\n",
              "      <td>6000</td>\n",
              "    </tr>\n",
              "    <tr>\n",
              "      <th>14</th>\n",
              "      <td>Vaishnavi Home Stay</td>\n",
              "      <td>None</td>\n",
              "      <td>[4.1 / 5]</td>\n",
              "      <td>1599</td>\n",
              "    </tr>\n",
              "    <tr>\n",
              "      <th>15</th>\n",
              "      <td>Nirvana Rooms B&amp;B</td>\n",
              "      <td>None</td>\n",
              "      <td>[4.5 / 5]</td>\n",
              "      <td>3200</td>\n",
              "    </tr>\n",
              "    <tr>\n",
              "      <th>16</th>\n",
              "      <td>Marley Villa</td>\n",
              "      <td>None</td>\n",
              "      <td>[4.6 / 5]</td>\n",
              "      <td>12000</td>\n",
              "    </tr>\n",
              "    <tr>\n",
              "      <th>17</th>\n",
              "      <td>Kalawati Homes Vacation Rentals</td>\n",
              "      <td>[25% Off]</td>\n",
              "      <td>[1.3 / 5]</td>\n",
              "      <td>5550</td>\n",
              "    </tr>\n",
              "    <tr>\n",
              "      <th>18</th>\n",
              "      <td>The Oaktree House</td>\n",
              "      <td>[20% Off]</td>\n",
              "      <td>[4.6 / 5]</td>\n",
              "      <td>4785</td>\n",
              "    </tr>\n",
              "    <tr>\n",
              "      <th>19</th>\n",
              "      <td>Zostel Homes Mashobra</td>\n",
              "      <td>None</td>\n",
              "      <td>[4.3 / 5]</td>\n",
              "      <td>3246</td>\n",
              "    </tr>\n",
              "    <tr>\n",
              "      <th>20</th>\n",
              "      <td>Hotel Chaman Palace</td>\n",
              "      <td>[6% Off]</td>\n",
              "      <td>[4 / 5]</td>\n",
              "      <td>2360</td>\n",
              "    </tr>\n",
              "    <tr>\n",
              "      <th>21</th>\n",
              "      <td>Resort Eutopia</td>\n",
              "      <td>[38% Off]</td>\n",
              "      <td>[3.9 / 5]</td>\n",
              "      <td>2469</td>\n",
              "    </tr>\n",
              "    <tr>\n",
              "      <th>22</th>\n",
              "      <td>Hotel Willow Banks</td>\n",
              "      <td>[13% Off]</td>\n",
              "      <td>[4.1 / 5]</td>\n",
              "      <td>7507</td>\n",
              "    </tr>\n",
              "    <tr>\n",
              "      <th>23</th>\n",
              "      <td>Royale Retreat</td>\n",
              "      <td>[11% Off]</td>\n",
              "      <td>[4.2 / 5]</td>\n",
              "      <td>6217</td>\n",
              "    </tr>\n",
              "    <tr>\n",
              "      <th>24</th>\n",
              "      <td>Ashiana Clarks INN Shimla</td>\n",
              "      <td>[4% Off]</td>\n",
              "      <td>[3.5 / 5]</td>\n",
              "      <td>3087</td>\n",
              "    </tr>\n",
              "    <tr>\n",
              "      <th>25</th>\n",
              "      <td>Solo Home</td>\n",
              "      <td>None</td>\n",
              "      <td>[3.5 / 5]</td>\n",
              "      <td>1800</td>\n",
              "    </tr>\n",
              "    <tr>\n",
              "      <th>26</th>\n",
              "      <td>The Zion Hotel</td>\n",
              "      <td>[15% Off]</td>\n",
              "      <td>[4.5 / 5]</td>\n",
              "      <td>5608</td>\n",
              "    </tr>\n",
              "    <tr>\n",
              "      <th>27</th>\n",
              "      <td>Clarkes Hotel, A grand heritage hotel since 1898</td>\n",
              "      <td>None</td>\n",
              "      <td>[4.8 / 5]</td>\n",
              "      <td>8500</td>\n",
              "    </tr>\n",
              "    <tr>\n",
              "      <th>28</th>\n",
              "      <td>Woodville Palace</td>\n",
              "      <td>[1% Off]</td>\n",
              "      <td>[4.4 / 5]</td>\n",
              "      <td>5125</td>\n",
              "    </tr>\n",
              "    <tr>\n",
              "      <th>29</th>\n",
              "      <td>Harmony Purple shimla</td>\n",
              "      <td>[34% Off]</td>\n",
              "      <td>[3.6 / 5]</td>\n",
              "      <td>2117</td>\n",
              "    </tr>\n",
              "    <tr>\n",
              "      <th>30</th>\n",
              "      <td>OYO 78531 Valley view Vohra Homes</td>\n",
              "      <td>[50% Off]</td>\n",
              "      <td>None</td>\n",
              "      <td>3296</td>\n",
              "    </tr>\n",
              "    <tr>\n",
              "      <th>31</th>\n",
              "      <td>Sukh Sagar Regency</td>\n",
              "      <td>[6% Off]</td>\n",
              "      <td>[4.1 / 5]</td>\n",
              "      <td>2909</td>\n",
              "    </tr>\n",
              "    <tr>\n",
              "      <th>32</th>\n",
              "      <td>Hotel CK International</td>\n",
              "      <td>[11% Off]</td>\n",
              "      <td>[4 / 5]</td>\n",
              "      <td>3908</td>\n",
              "    </tr>\n",
              "    <tr>\n",
              "      <th>33</th>\n",
              "      <td>Hotel Kapil</td>\n",
              "      <td>[50% Off]</td>\n",
              "      <td>[4.4 / 5]</td>\n",
              "      <td>1250</td>\n",
              "    </tr>\n",
              "    <tr>\n",
              "      <th>34</th>\n",
              "      <td>New Cosmos</td>\n",
              "      <td>[11% Off]</td>\n",
              "      <td>[3.5 / 5]</td>\n",
              "      <td>2931</td>\n",
              "    </tr>\n",
              "    <tr>\n",
              "      <th>35</th>\n",
              "      <td>Hotel Le Talbot The Mall</td>\n",
              "      <td>[6% Off]</td>\n",
              "      <td>[3.8 / 5]</td>\n",
              "      <td>3116</td>\n",
              "    </tr>\n",
              "    <tr>\n",
              "      <th>36</th>\n",
              "      <td>Ballyhack Cottage by Vista Rooms</td>\n",
              "      <td>[10% Off]</td>\n",
              "      <td>None</td>\n",
              "      <td>10080</td>\n",
              "    </tr>\n",
              "    <tr>\n",
              "      <th>37</th>\n",
              "      <td>CITY VIEW SHIMLA Home Stay</td>\n",
              "      <td>None</td>\n",
              "      <td>[4.7 / 5]</td>\n",
              "      <td>2000</td>\n",
              "    </tr>\n",
              "    <tr>\n",
              "      <th>38</th>\n",
              "      <td>Hotel Sangeet</td>\n",
              "      <td>[6% Off]</td>\n",
              "      <td>[3.9 / 5]</td>\n",
              "      <td>2832</td>\n",
              "    </tr>\n",
              "    <tr>\n",
              "      <th>39</th>\n",
              "      <td>Pine Tree Shimla</td>\n",
              "      <td>None</td>\n",
              "      <td>None</td>\n",
              "      <td>3000</td>\n",
              "    </tr>\n",
              "  </tbody>\n",
              "</table>\n",
              "</div>"
            ],
            "text/plain": [
              "                                          Hotel Name  ... Room Price\n",
              "0     Rocky Knob (Explore World Art in One Property)  ...       2645\n",
              "1                                Snow Valley Resorts  ...       3420\n",
              "2                                       Hotel Dhroov  ...       3521\n",
              "3       OYO 1706 Hotel The Alpine Heritage Residency  ...       3812\n",
              "4                                  Meena Bagh Shimla  ...       7231\n",
              "5                               Radisson Jass Shimla  ...      15300\n",
              "6       Marina- Shimla First Designer Boutique Hotel  ...       9526\n",
              "7                                         Snow Lotus  ...       3085\n",
              "8                      Bridge View Regency Mall road  ...       3428\n",
              "9                             Frosty Woods Home Stay  ...       1800\n",
              "10                          Goldenfern Resort Shimla  ...       4407\n",
              "11                                  Torrentium Lodge  ...       2398\n",
              "12                                   Hotel Sidharath  ...       1888\n",
              "13                                     Honeymoon Inn  ...       6000\n",
              "14                               Vaishnavi Home Stay  ...       1599\n",
              "15                                 Nirvana Rooms B&B  ...       3200\n",
              "16                                      Marley Villa  ...      12000\n",
              "17                   Kalawati Homes Vacation Rentals  ...       5550\n",
              "18                                 The Oaktree House  ...       4785\n",
              "19                             Zostel Homes Mashobra  ...       3246\n",
              "20                               Hotel Chaman Palace  ...       2360\n",
              "21                                    Resort Eutopia  ...       2469\n",
              "22                                Hotel Willow Banks  ...       7507\n",
              "23                                    Royale Retreat  ...       6217\n",
              "24                         Ashiana Clarks INN Shimla  ...       3087\n",
              "25                                         Solo Home  ...       1800\n",
              "26                                    The Zion Hotel  ...       5608\n",
              "27  Clarkes Hotel, A grand heritage hotel since 1898  ...       8500\n",
              "28                                  Woodville Palace  ...       5125\n",
              "29                             Harmony Purple shimla  ...       2117\n",
              "30                 OYO 78531 Valley view Vohra Homes  ...       3296\n",
              "31                                Sukh Sagar Regency  ...       2909\n",
              "32                            Hotel CK International  ...       3908\n",
              "33                                       Hotel Kapil  ...       1250\n",
              "34                                        New Cosmos  ...       2931\n",
              "35                          Hotel Le Talbot The Mall  ...       3116\n",
              "36                  Ballyhack Cottage by Vista Rooms  ...      10080\n",
              "37                        CITY VIEW SHIMLA Home Stay  ...       2000\n",
              "38                                     Hotel Sangeet  ...       2832\n",
              "39                                  Pine Tree Shimla  ...       3000\n",
              "\n",
              "[40 rows x 4 columns]"
            ]
          },
          "metadata": {
            "tags": []
          },
          "execution_count": 12
        }
      ]
    },
    {
      "cell_type": "code",
      "metadata": {
        "colab": {
          "base_uri": "https://localhost:8080/"
        },
        "id": "JgUfzRmA1GD6",
        "outputId": "46ff8f4a-40db-43cd-ad89-ba556df7a6eb"
      },
      "source": [
        "df.info()"
      ],
      "execution_count": 13,
      "outputs": [
        {
          "output_type": "stream",
          "text": [
            "<class 'pandas.core.frame.DataFrame'>\n",
            "RangeIndex: 40 entries, 0 to 39\n",
            "Data columns (total 4 columns):\n",
            " #   Column      Non-Null Count  Dtype \n",
            "---  ------      --------------  ----- \n",
            " 0   Hotel Name  40 non-null     object\n",
            " 1   Discount    30 non-null     object\n",
            " 2   Ratings     37 non-null     object\n",
            " 3   Room Price  40 non-null     object\n",
            "dtypes: object(4)\n",
            "memory usage: 1.4+ KB\n"
          ],
          "name": "stdout"
        }
      ]
    },
    {
      "cell_type": "code",
      "metadata": {
        "id": "Ew_DsoKH5f8g"
      },
      "source": [
        ""
      ],
      "execution_count": null,
      "outputs": []
    }
  ]
}